{
 "cells": [
  {
   "cell_type": "code",
   "execution_count": 1,
   "id": "5d8d4fbb-a939-4055-9ac8-a15f5e45b6ca",
   "metadata": {},
   "outputs": [],
   "source": [
    "from selenium import webdriver\n",
    "from selenium.webdriver.support.wait import WebDriverWait\n",
    "from selenium.webdriver.support import expected_conditions as EC\n",
    "from bs4 import BeautifulSoup\n",
    "import time\n",
    "from tqdm import tqdm"
   ]
  },
  {
   "cell_type": "code",
   "execution_count": 2,
   "id": "f9a96c79-8797-4f6c-8d5e-06afde980ba7",
   "metadata": {},
   "outputs": [],
   "source": [
    "driver = webdriver.Chrome()"
   ]
  },
  {
   "cell_type": "code",
   "execution_count": 3,
   "id": "e216c10a-fb0e-4f95-b313-75649e802839",
   "metadata": {},
   "outputs": [],
   "source": [
    "driver.get('https://www.cars24.com/')"
   ]
  },
  {
   "cell_type": "code",
   "execution_count": 4,
   "id": "fb1d4f86-495e-4f76-891b-3839291f48e4",
   "metadata": {},
   "outputs": [],
   "source": [
    "wait = WebDriverWait(driver,10)"
   ]
  },
  {
   "cell_type": "markdown",
   "id": "f22d5a9d-162a-4780-9338-657f22bed869",
   "metadata": {},
   "source": [
    "## Going to location Page"
   ]
  },
  {
   "cell_type": "code",
   "execution_count": 5,
   "id": "f6eee903-b068-48f9-b5bb-6039691714f5",
   "metadata": {},
   "outputs": [],
   "source": [
    "try:\n",
    "    loc_btn = wait.until(EC.presence_of_element_located(('class name','_1K8Qe')))\n",
    "    loc_btn.click()\n",
    "\n",
    "except:\n",
    "    set_loc_btn = wait.until(EC.presence_of_element_located(('class name','_2SBi0')))\n",
    "    set_loc_btn.click()\n",
    "\n",
    "    loc_btn = wait.until(EC.presence_of_element_located(('class name','_1K8Qe')))\n",
    "    loc_btn.click()"
   ]
  },
  {
   "cell_type": "markdown",
   "id": "dc78490e-155b-4496-99e5-c9fa216309fc",
   "metadata": {},
   "source": [
    "## Choosing the location"
   ]
  },
  {
   "cell_type": "code",
   "execution_count": 6,
   "id": "7c4f0e8c-4020-4969-887d-15db389e9ecd",
   "metadata": {},
   "outputs": [],
   "source": [
    "loc_cfm = wait.until(EC.presence_of_element_located(('class name','_1oBNU')))\n",
    "loc_cfm.click()"
   ]
  },
  {
   "cell_type": "markdown",
   "id": "6c83f666-46e0-43dd-856b-0a2c259ca8e7",
   "metadata": {},
   "source": [
    "## Selecting buy old cars"
   ]
  },
  {
   "cell_type": "code",
   "execution_count": 7,
   "id": "2b00f326-ce63-45a2-8571-2eeea0ade9e5",
   "metadata": {},
   "outputs": [],
   "source": [
    "buy_car_btn = wait.until(EC.presence_of_element_located(('class name','u31Ay')))\n",
    "buy_car_btn.click()"
   ]
  },
  {
   "cell_type": "markdown",
   "id": "aeac5e72-d24d-4689-8148-900acac48b1e",
   "metadata": {},
   "source": [
    "## Selecting New Delhi"
   ]
  },
  {
   "cell_type": "code",
   "execution_count": 8,
   "id": "75bfc98d-532d-4a01-b258-1cf45fc9f4a0",
   "metadata": {},
   "outputs": [],
   "source": [
    "delhi_btn = wait.until(EC.presence_of_element_located(('xpath','//a[@href=\"https://www.cars24.com/buy-used-cars-new-delhi/\"]')))\n",
    "delhi_btn.click()"
   ]
  },
  {
   "cell_type": "code",
   "execution_count": 9,
   "id": "0ec2ec0d-fa88-40fe-93ba-3c5132df478e",
   "metadata": {},
   "outputs": [],
   "source": [
    "driver.maximize_window()"
   ]
  },
  {
   "cell_type": "code",
   "execution_count": 10,
   "id": "ca405aed-4519-4af9-b90a-ed277b86d2c2",
   "metadata": {},
   "outputs": [],
   "source": [
    "switch = driver.window_handles[0]\n",
    "driver.switch_to.window(switch)"
   ]
  },
  {
   "cell_type": "markdown",
   "id": "cd6b8128-16ee-4db7-95f4-1289b6e2f4d2",
   "metadata": {},
   "source": [
    "## Scrolling to All brands"
   ]
  },
  {
   "cell_type": "code",
   "execution_count": 11,
   "id": "3166d396-b936-4c7a-90d3-d442dde8fbeb",
   "metadata": {},
   "outputs": [],
   "source": [
    "all_brands_ele = wait.until(EC.presence_of_all_elements_located(('class name','_1XyjH')))[-1]\n",
    "driver.execute_script(\"arguments[0].scrollIntoView(true);\", all_brands_ele)"
   ]
  },
  {
   "cell_type": "markdown",
   "id": "0fc24ef1-10e5-4561-bb74-c57385f3e525",
   "metadata": {},
   "source": [
    "## Clicking the brands we require"
   ]
  },
  {
   "cell_type": "code",
   "execution_count": 12,
   "id": "4bb7ee44-f73b-4248-9e3c-b0ece9c745ed",
   "metadata": {},
   "outputs": [],
   "source": [
    "def brand_selector(name):\n",
    "    brands_ele = wait.until(EC.presence_of_all_elements_located(('class name','rTjwY')))\n",
    "    checkbox_brands_ele = wait.until(EC.presence_of_all_elements_located(('class name','_2dra0')))\n",
    "    diff = len(checkbox_brands_ele) - len(brands_ele)\n",
    "    index = 0\n",
    "    for brand in brands_ele:\n",
    "        if brand.text.split('\\n')[0].lower() == name.lower():\n",
    "            break\n",
    "        index += 1\n",
    "\n",
    "    if index < len(brands_ele):\n",
    "        checkbox_brands_ele[diff:][index].click()\n",
    "        return True\n",
    "    else:\n",
    "        print(\"Sorry we are unable found your desired brand\")\n",
    "        return False"
   ]
  },
  {
   "cell_type": "code",
   "execution_count": 13,
   "id": "76d6a2e5-eb9b-4691-87b8-4220ec40a61a",
   "metadata": {},
   "outputs": [],
   "source": [
    "any_car_selected = False"
   ]
  },
  {
   "cell_type": "markdown",
   "id": "7cf8ae5e-ab52-4488-9345-8ca66500911a",
   "metadata": {},
   "source": [
    "## Taking input of car name(Hyundai)"
   ]
  },
  {
   "cell_type": "code",
   "execution_count": 14,
   "id": "db1fbb55-92cd-41e3-9e04-18d5897f7ad2",
   "metadata": {},
   "outputs": [],
   "source": [
    "car_name = \"hyundai\"\n",
    "found = brand_selector(car_name)\n",
    "if found:\n",
    "    any_car_selected = True"
   ]
  },
  {
   "cell_type": "markdown",
   "id": "e5727e1a-b108-414a-a8b3-8b37df3231cf",
   "metadata": {},
   "source": [
    "## Extracting Details of Hyundai"
   ]
  },
  {
   "cell_type": "code",
   "execution_count": 15,
   "id": "88153af0-df5d-4f1b-a3fb-a73675b473a2",
   "metadata": {},
   "outputs": [
    {
     "name": "stdout",
     "output_type": "stream",
     "text": [
      "The total number of models of hyundai is 214\n"
     ]
    }
   ],
   "source": [
    "def total_models():\n",
    "    total_model = int(wait.until(EC.presence_of_element_located(('class name','_1Bq4a'))).text.split()[0])\n",
    "    return total_model\n",
    "\n",
    "total = total_models()\n",
    "print(f\"The total number of models of {car_name} is {total}\")"
   ]
  },
  {
   "cell_type": "code",
   "execution_count": 16,
   "id": "918739c7-ebdc-4d0e-a535-f5cc992ea27d",
   "metadata": {},
   "outputs": [],
   "source": [
    "def data_extraction(total_models):\n",
    "    \n",
    "    \n",
    "    for i in range(0,100000,2000):\n",
    "        driver.execute_script(f\"window.scrollTo(0,{i})\")\n",
    "        \n",
    "        year_models = wait.until(EC.presence_of_all_elements_located(('class name','_11dVb')))\n",
    "        driven_fuel_types = wait.until(EC.presence_of_all_elements_located(('class name','_3J2G-')))\n",
    "        prices = wait.until(EC.presence_of_all_elements_located(('class name','_3RL-I')))\n",
    "        \n",
    "        if len(year_models)==total_models and len(driven_fuel_types)==total_models and len(prices)==total_models:\n",
    "            print(\"Successfully colllected all data\")\n",
    "    \n",
    "            driver.execute_script(\"window.scrollTo(0,0)\")\n",
    "\n",
    "            return [year_models,driven_fuel_types,prices]\n",
    "            \n",
    "    return []"
   ]
  },
  {
   "cell_type": "code",
   "execution_count": 17,
   "id": "35aa98ce-dc35-46d8-bafa-c54154114f36",
   "metadata": {},
   "outputs": [
    {
     "name": "stdout",
     "output_type": "stream",
     "text": [
      "Successfully colllected all data\n"
     ]
    }
   ],
   "source": [
    "datas = data_extraction(total)"
   ]
  },
  {
   "cell_type": "code",
   "execution_count": 18,
   "id": "92643eca-c159-4149-a5fb-fa487dedf392",
   "metadata": {},
   "outputs": [],
   "source": [
    "def gathering_data(arr1,arr2,arr3):\n",
    "    years = []\n",
    "    models = []\n",
    "    distance_drivens = []\n",
    "    fuels = []\n",
    "    transmissions = []\n",
    "    prices = []\n",
    "\n",
    "    for data in arr1:\n",
    "        datas = data.text.split()\n",
    "        year, model = datas[0],\" \".join(datas[1:])\n",
    "        years.append(year)\n",
    "        models.append(model)\n",
    "\n",
    "    for data in arr2:\n",
    "        datas = data.text.split('\\n')\n",
    "        dist , fuel , typ = datas[0] , datas[1] , datas[2]\n",
    "        distance_drivens.append(dist)\n",
    "        fuels.append(fuel)\n",
    "        transmissions.append(typ)\n",
    "\n",
    "    for data in arr3:\n",
    "        prices.append(data.text)\n",
    "\n",
    "    return years,models,distance_drivens,fuels,transmissions,prices"
   ]
  },
  {
   "cell_type": "code",
   "execution_count": 19,
   "id": "f719eeb5-33b2-40ef-b577-b9d3d20b9e94",
   "metadata": {},
   "outputs": [],
   "source": [
    "years1, models1 , distance_drivens1 , fuels1 , transmissions1 , prices1 =  gathering_data(datas[0],datas[1],datas[2])"
   ]
  },
  {
   "cell_type": "markdown",
   "id": "d71b33c7-ec36-44a7-ad42-529c51c4daa6",
   "metadata": {},
   "source": [
    "## Taking input of car name(Honda)"
   ]
  },
  {
   "cell_type": "code",
   "execution_count": 20,
   "id": "07dc5247-9036-4692-8cf5-1a5a2813cd1f",
   "metadata": {},
   "outputs": [],
   "source": [
    "if  any_car_selected:\n",
    "    found = brand_selector(car_name)\n",
    "    any_car_selected = False"
   ]
  },
  {
   "cell_type": "code",
   "execution_count": 21,
   "id": "9b4a6f38-eb22-4212-ac95-445b4f00aff6",
   "metadata": {},
   "outputs": [],
   "source": [
    "car_name = \"honda\"\n",
    "found = brand_selector(car_name)\n",
    "if found:\n",
    "    any_car_selected = True"
   ]
  },
  {
   "cell_type": "markdown",
   "id": "20d3042f-d7d4-4114-ad72-6fda86db3712",
   "metadata": {},
   "source": [
    "## Extracting Details of Honda"
   ]
  },
  {
   "cell_type": "code",
   "execution_count": 22,
   "id": "39b123f2-117b-4137-8e4c-2c47510c80d5",
   "metadata": {},
   "outputs": [],
   "source": [
    "driver.refresh()\n",
    "time.sleep(2)"
   ]
  },
  {
   "cell_type": "code",
   "execution_count": 23,
   "id": "df1c92e0-8132-4daf-9d69-6e30b91e26ae",
   "metadata": {},
   "outputs": [
    {
     "name": "stdout",
     "output_type": "stream",
     "text": [
      "The total number of models of honda is 107\n"
     ]
    }
   ],
   "source": [
    "total = total_models()\n",
    "print(f\"The total number of models of {car_name} is {total}\")"
   ]
  },
  {
   "cell_type": "code",
   "execution_count": 24,
   "id": "5349f646-5bfa-4316-ade5-b21eb32cb387",
   "metadata": {},
   "outputs": [
    {
     "name": "stdout",
     "output_type": "stream",
     "text": [
      "Successfully colllected all data\n"
     ]
    }
   ],
   "source": [
    "datas = data_extraction(total)"
   ]
  },
  {
   "cell_type": "code",
   "execution_count": 25,
   "id": "0187b29a-86c0-47c7-b72f-91de2c751b0a",
   "metadata": {},
   "outputs": [],
   "source": [
    "years2, models2 , distance_drivens2 , fuels2 , transmissions2 , prices2 =  gathering_data(datas[0],datas[1],datas[2])"
   ]
  },
  {
   "cell_type": "markdown",
   "id": "f6bede35-2354-480f-a195-44ae59b010f3",
   "metadata": {},
   "source": [
    "## Taking input of car name(Tata)"
   ]
  },
  {
   "cell_type": "code",
   "execution_count": 26,
   "id": "fb8d95e0-211e-4ca1-b129-1cc611d476a7",
   "metadata": {},
   "outputs": [],
   "source": [
    "all_brands_ele = wait.until(EC.presence_of_all_elements_located(('class name','_1XyjH')))[-1]\n",
    "driver.execute_script(\"arguments[0].scrollIntoView(true);\", all_brands_ele)"
   ]
  },
  {
   "cell_type": "code",
   "execution_count": 27,
   "id": "55e07fba-54e0-41f9-9c8d-5445aa7cfe4d",
   "metadata": {},
   "outputs": [],
   "source": [
    "if  any_car_selected:\n",
    "    found = brand_selector(car_name)\n",
    "    any_car_selected = False"
   ]
  },
  {
   "cell_type": "code",
   "execution_count": 28,
   "id": "039cce46-0a2f-41b2-998c-8cec9212b298",
   "metadata": {},
   "outputs": [],
   "source": [
    "car_name = \"tata\"\n",
    "found = brand_selector(car_name)\n",
    "if found:\n",
    "    any_car_selected = True"
   ]
  },
  {
   "cell_type": "markdown",
   "id": "0ce7132e-9b12-41ac-8c40-1749f2d4e662",
   "metadata": {},
   "source": [
    "## Extracting Details of Tata"
   ]
  },
  {
   "cell_type": "code",
   "execution_count": 29,
   "id": "ce8ed3aa-b5a5-4c88-9493-c6fdbf5b8ad8",
   "metadata": {},
   "outputs": [],
   "source": [
    "driver.refresh()\n",
    "time.sleep(2)"
   ]
  },
  {
   "cell_type": "code",
   "execution_count": 30,
   "id": "e2a3d7e0-026a-407b-a1da-35ddff790107",
   "metadata": {},
   "outputs": [
    {
     "name": "stdout",
     "output_type": "stream",
     "text": [
      "The total number of models of tata is 83\n"
     ]
    }
   ],
   "source": [
    "total = total_models()\n",
    "print(f\"The total number of models of {car_name} is {total}\")"
   ]
  },
  {
   "cell_type": "code",
   "execution_count": 31,
   "id": "aef5903f-bf99-418a-9ae9-f691a3710833",
   "metadata": {},
   "outputs": [
    {
     "name": "stdout",
     "output_type": "stream",
     "text": [
      "Successfully colllected all data\n"
     ]
    }
   ],
   "source": [
    "datas = data_extraction(total)"
   ]
  },
  {
   "cell_type": "code",
   "execution_count": 32,
   "id": "eb9534f0-b88d-4e8d-bc85-0d6f81d82549",
   "metadata": {},
   "outputs": [],
   "source": [
    "years3, models3 , distance_drivens3 , fuels3 , transmissions3 , prices3 =  gathering_data(datas[0],datas[1],datas[2])"
   ]
  },
  {
   "cell_type": "markdown",
   "id": "4e310731-325c-4f36-a5cd-6b669cbe6af3",
   "metadata": {},
   "source": [
    "## Collecting all data in variables"
   ]
  },
  {
   "cell_type": "code",
   "execution_count": 44,
   "id": "876d99e1-f163-4a61-98cf-c8a6267418ba",
   "metadata": {},
   "outputs": [],
   "source": [
    "finals = []"
   ]
  },
  {
   "cell_type": "code",
   "execution_count": 45,
   "id": "d1d3638d-3f8f-4667-9894-e7b8326df7d6",
   "metadata": {},
   "outputs": [],
   "source": [
    "for i,j,k,l,m,n in zip(years1,models1,distance_drivens1,fuels1,transmissions1,prices1):\n",
    "    finals.append([i,\"Hyundai\",j,k,l,m,n,\"New Delhi\"])"
   ]
  },
  {
   "cell_type": "code",
   "execution_count": 46,
   "id": "40c5b16e-c6b3-48fa-a40a-4800c3895589",
   "metadata": {},
   "outputs": [],
   "source": [
    "for i,j,k,l,m,n in zip(years2,models2,distance_drivens2,fuels2,transmissions2,prices2):\n",
    "    finals.append([i,\"Honda\",j,k,l,m,n,\"New Delhi\"])"
   ]
  },
  {
   "cell_type": "code",
   "execution_count": 47,
   "id": "a101ccfc-4c4e-4854-8f15-78771f9f2160",
   "metadata": {},
   "outputs": [],
   "source": [
    "for i,j,k,l,m,n in zip(years3,models3,distance_drivens3,fuels3,transmissions3,prices3):\n",
    "    finals.append([i,\"Tata\",j,k,l,m,n,\"New Delhi\"])"
   ]
  },
  {
   "cell_type": "code",
   "execution_count": 42,
   "id": "6e6efd23-4f9a-46a0-a98e-45f2417fda42",
   "metadata": {},
   "outputs": [],
   "source": [
    "import pandas as pd"
   ]
  },
  {
   "cell_type": "code",
   "execution_count": 49,
   "id": "eab73279-63cd-4c4b-82a3-32123b6ca18a",
   "metadata": {},
   "outputs": [],
   "source": [
    "df = pd.DataFrame(finals,columns=['Year','Car','Model','Kilometre Driven','Fuel Type','Transmission Type','Price','Location'])"
   ]
  },
  {
   "cell_type": "code",
   "execution_count": 50,
   "id": "65154b4c-4150-4fe9-9eb2-4f1ad89a532f",
   "metadata": {},
   "outputs": [
    {
     "data": {
      "text/html": [
       "<div>\n",
       "<style scoped>\n",
       "    .dataframe tbody tr th:only-of-type {\n",
       "        vertical-align: middle;\n",
       "    }\n",
       "\n",
       "    .dataframe tbody tr th {\n",
       "        vertical-align: top;\n",
       "    }\n",
       "\n",
       "    .dataframe thead th {\n",
       "        text-align: right;\n",
       "    }\n",
       "</style>\n",
       "<table border=\"1\" class=\"dataframe\">\n",
       "  <thead>\n",
       "    <tr style=\"text-align: right;\">\n",
       "      <th></th>\n",
       "      <th>Year</th>\n",
       "      <th>Car</th>\n",
       "      <th>Model</th>\n",
       "      <th>Kilometre Driven</th>\n",
       "      <th>Fuel Type</th>\n",
       "      <th>Transmission Type</th>\n",
       "      <th>Price</th>\n",
       "      <th>Location</th>\n",
       "    </tr>\n",
       "  </thead>\n",
       "  <tbody>\n",
       "    <tr>\n",
       "      <th>0</th>\n",
       "      <td>2015</td>\n",
       "      <td>Hyundai</td>\n",
       "      <td>Hyundai Elite i20 MAGNA 1.2</td>\n",
       "      <td>66,704 KM</td>\n",
       "      <td>PETROL</td>\n",
       "      <td>MANUAL</td>\n",
       "      <td>₹4.35 Lakh</td>\n",
       "      <td>New Delhi</td>\n",
       "    </tr>\n",
       "    <tr>\n",
       "      <th>1</th>\n",
       "      <td>2019</td>\n",
       "      <td>Hyundai</td>\n",
       "      <td>Hyundai Verna 1.6 VTVT SX</td>\n",
       "      <td>55,921 KM</td>\n",
       "      <td>PETROL</td>\n",
       "      <td>MANUAL</td>\n",
       "      <td>₹7.78 Lakh</td>\n",
       "      <td>New Delhi</td>\n",
       "    </tr>\n",
       "    <tr>\n",
       "      <th>2</th>\n",
       "      <td>2017</td>\n",
       "      <td>Hyundai</td>\n",
       "      <td>Hyundai Creta SX PLUS AT 1.6 PETROL</td>\n",
       "      <td>29,759 KM</td>\n",
       "      <td>PETROL</td>\n",
       "      <td>AUTOMATIC</td>\n",
       "      <td>₹9.00 Lakh</td>\n",
       "      <td>New Delhi</td>\n",
       "    </tr>\n",
       "    <tr>\n",
       "      <th>3</th>\n",
       "      <td>2022</td>\n",
       "      <td>Hyundai</td>\n",
       "      <td>Hyundai Creta SX (O) 1.4 TURBO DCT</td>\n",
       "      <td>40,368 KM</td>\n",
       "      <td>PETROL</td>\n",
       "      <td>AUTOMATIC</td>\n",
       "      <td>₹16.54 Lakh</td>\n",
       "      <td>New Delhi</td>\n",
       "    </tr>\n",
       "    <tr>\n",
       "      <th>4</th>\n",
       "      <td>2020</td>\n",
       "      <td>Hyundai</td>\n",
       "      <td>Hyundai VENUE SX 1.0 TURBO</td>\n",
       "      <td>43,417 KM</td>\n",
       "      <td>PETROL</td>\n",
       "      <td>MANUAL</td>\n",
       "      <td>₹8.31 Lakh</td>\n",
       "      <td>New Delhi</td>\n",
       "    </tr>\n",
       "  </tbody>\n",
       "</table>\n",
       "</div>"
      ],
      "text/plain": [
       "   Year      Car                                Model Kilometre Driven  \\\n",
       "0  2015  Hyundai          Hyundai Elite i20 MAGNA 1.2        66,704 KM   \n",
       "1  2019  Hyundai            Hyundai Verna 1.6 VTVT SX        55,921 KM   \n",
       "2  2017  Hyundai  Hyundai Creta SX PLUS AT 1.6 PETROL        29,759 KM   \n",
       "3  2022  Hyundai   Hyundai Creta SX (O) 1.4 TURBO DCT        40,368 KM   \n",
       "4  2020  Hyundai           Hyundai VENUE SX 1.0 TURBO        43,417 KM   \n",
       "\n",
       "  Fuel Type Transmission Type        Price   Location  \n",
       "0    PETROL            MANUAL   ₹4.35 Lakh  New Delhi  \n",
       "1    PETROL            MANUAL   ₹7.78 Lakh  New Delhi  \n",
       "2    PETROL         AUTOMATIC   ₹9.00 Lakh  New Delhi  \n",
       "3    PETROL         AUTOMATIC  ₹16.54 Lakh  New Delhi  \n",
       "4    PETROL            MANUAL   ₹8.31 Lakh  New Delhi  "
      ]
     },
     "execution_count": 50,
     "metadata": {},
     "output_type": "execute_result"
    }
   ],
   "source": [
    "df.head(5)"
   ]
  },
  {
   "cell_type": "code",
   "execution_count": 51,
   "id": "97e084b3-7642-4362-954d-f8491bd6f38d",
   "metadata": {},
   "outputs": [],
   "source": [
    "df.to_csv(\"Car details.csv\",index=False)"
   ]
  },
  {
   "cell_type": "code",
   "execution_count": 52,
   "id": "e562505a-bf85-493b-96e2-5efe2badea86",
   "metadata": {},
   "outputs": [],
   "source": [
    "driver.quit()"
   ]
  }
 ],
 "metadata": {
  "kernelspec": {
   "display_name": "Python 3 (ipykernel)",
   "language": "python",
   "name": "python3"
  },
  "language_info": {
   "codemirror_mode": {
    "name": "ipython",
    "version": 3
   },
   "file_extension": ".py",
   "mimetype": "text/x-python",
   "name": "python",
   "nbconvert_exporter": "python",
   "pygments_lexer": "ipython3",
   "version": "3.11.7"
  }
 },
 "nbformat": 4,
 "nbformat_minor": 5
}
